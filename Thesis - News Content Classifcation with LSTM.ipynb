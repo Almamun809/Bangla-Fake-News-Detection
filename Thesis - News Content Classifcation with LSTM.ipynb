{
  "nbformat": 4,
  "nbformat_minor": 0,
  "metadata": {
    "colab": {
      "name": "LSTM-fake news.ipynb",
      "provenance": [],
      "collapsed_sections": []
    },
    "kernelspec": {
      "name": "python3",
      "display_name": "Python 3"
    },
    "accelerator": "GPU"
  },
  "cells": [
    {
      "cell_type": "code",
      "metadata": {
        "id": "_ygWEENgZhpo",
        "colab": {
          "base_uri": "https://localhost:8080/"
        },
        "outputId": "2e8892ee-baff-4021-d563-eb854be5e5ef"
      },
      "source": [
        "import keras\n",
        "from tensorflow.python.client import device_lib\n",
        "\n",
        "print(device_lib.list_local_devices())\n",
        "import numpy as np\n",
        "import pandas as pd\n",
        "from collections import defaultdict\n",
        "import re\n",
        "\n",
        "\n",
        "import sys\n",
        "import os\n",
        "\n",
        "from keras.preprocessing.text import Tokenizer\n",
        "from keras.preprocessing.sequence import pad_sequences\n",
        "from keras.utils.np_utils import to_categorical\n",
        "\n",
        "from keras.layers import Embedding\n",
        "from keras.layers import Dense, Input, Flatten\n",
        "from keras.layers import Conv1D, MaxPooling1D, Embedding, Concatenate, Dropout\n",
        "from keras.models import Model\n",
        "\n",
        "MAX_SEQUENCE_LENGTH = 1000\n",
        "MAX_NB_WORDS = 200000\n",
        "EMBEDDING_DIM = 100\n",
        "VALIDATION_SPLIT = 0.2"
      ],
      "execution_count": null,
      "outputs": [
        {
          "output_type": "stream",
          "text": [
            "[name: \"/device:CPU:0\"\n",
            "device_type: \"CPU\"\n",
            "memory_limit: 268435456\n",
            "locality {\n",
            "}\n",
            "incarnation: 7544750370024361838\n",
            ", name: \"/device:GPU:0\"\n",
            "device_type: \"GPU\"\n",
            "memory_limit: 14638920512\n",
            "locality {\n",
            "  bus_id: 1\n",
            "  links {\n",
            "  }\n",
            "}\n",
            "incarnation: 9456286265602695652\n",
            "physical_device_desc: \"device: 0, name: Tesla T4, pci bus id: 0000:00:04.0, compute capability: 7.5\"\n",
            "]\n"
          ],
          "name": "stdout"
        }
      ]
    },
    {
      "cell_type": "code",
      "metadata": {
        "id": "w_y6bso_aUtM"
      },
      "source": [
        "def clean_str(string):\n",
        "    \"\"\"\n",
        "    Cleaning of dataset\n",
        "    \"\"\"\n",
        "    string = re.sub(r\"\\\\\", \"\", string)    \n",
        "    string = re.sub(r\"\\'\", \"\", string)    \n",
        "    string = re.sub(r\"\\\"\", \"\", string)    \n",
        "    return string.strip().lower()"
      ],
      "execution_count": null,
      "outputs": []
    },
    {
      "cell_type": "code",
      "metadata": {
        "id": "bcCDasYias8H",
        "colab": {
          "base_uri": "https://localhost:8080/"
        },
        "outputId": "e8b0be30-f15f-4114-de42-1a1d9a67f27d"
      },
      "source": [
        "from google.colab import drive\n",
        "drive.mount('/content/drive')\n",
        "!ls \"/content/drive/My Drive/dataset/LabeledAuthentic-7K.csv\""
      ],
      "execution_count": null,
      "outputs": [
        {
          "output_type": "stream",
          "text": [
            "Mounted at /content/drive\n",
            "'/content/drive/My Drive/dataset/LabeledAuthentic-7K.csv'\n"
          ],
          "name": "stdout"
        }
      ]
    },
    {
      "cell_type": "code",
      "metadata": {
        "id": "SqzaLLyqapWq"
      },
      "source": [
        "data_train = pd.read_csv('/content/drive/My Drive/dataset/LabeledAuthentic-7K.csv', engine='python', encoding='utf-8')"
      ],
      "execution_count": null,
      "outputs": []
    },
    {
      "cell_type": "code",
      "metadata": {
        "id": "3Twr04SpaqC0"
      },
      "source": [
        "data_train = pd.read_csv('/content/drive/My Drive/dataset/LabeledAuthentic-7K.csv', engine='python', encoding='utf-8')\n",
        "#print(data_train.columns)\n",
        "#print('What the raw input data looks like:')\n",
        "#print(data_train[0:5])\n",
        "texts = []\n",
        "labels = []\n",
        "\n",
        "for i in range(data_train.content.shape[0]):\n",
        "    text1 = data_train.headline[i]\n",
        "    text2 = data_train.content[i]\n",
        "    text = str(text1) +\"\"+ str(text2)\n",
        "    texts.append(text)\n",
        "    labels.append(data_train.label[i])\n",
        "    \n",
        "tokenizer = Tokenizer(num_words=MAX_NB_WORDS)\n",
        "tokenizer.fit_on_texts(texts)\n",
        "sequences = tokenizer.texts_to_sequences(texts)\n",
        "\n",
        "word_index = tokenizer.word_index"
      ],
      "execution_count": null,
      "outputs": []
    },
    {
      "cell_type": "code",
      "metadata": {
        "id": "gzi29NSbbEjN",
        "colab": {
          "base_uri": "https://localhost:8080/"
        },
        "outputId": "fcd227f0-d686-4a21-fca5-916f9583c0e6"
      },
      "source": [
        "data = pad_sequences(sequences, maxlen=MAX_SEQUENCE_LENGTH)\n",
        "labels = to_categorical(np.asarray(labels),num_classes = 2)\n",
        "print('Shape of data tensor:', data.shape)\n",
        "print('Shape of label tensor:', labels.shape)"
      ],
      "execution_count": null,
      "outputs": [
        {
          "output_type": "stream",
          "text": [
            "Shape of data tensor: (7202, 1000)\n",
            "Shape of label tensor: (7202, 2)\n"
          ],
          "name": "stdout"
        }
      ]
    },
    {
      "cell_type": "code",
      "metadata": {
        "id": "XkbgmI25bQh8",
        "colab": {
          "base_uri": "https://localhost:8080/"
        },
        "outputId": "a50565c7-0a6a-4013-e68d-8621a386bda2"
      },
      "source": [
        "from sklearn.model_selection import train_test_split\n",
        "\n",
        "indices = np.arange(data.shape[0])\n",
        "np.random.shuffle(indices)\n",
        "data = data[indices]\n",
        "labels = labels[indices]\n",
        "x_train, x_test, y_train, y_test = train_test_split( data, labels, test_size=0.20, random_state=42)\n",
        "x_test, x_val, y_test, y_val = train_test_split( x_test, y_test, test_size=0.50, random_state=42)\n",
        "print('Size of train, validation, test:', len(y_train), len(y_val), len(y_test))\n",
        "\n",
        "print('real & fake news in train,valt,test:')\n",
        "print(y_train.sum(axis=0))\n",
        "print(y_val.sum(axis=0))\n",
        "print(y_test.sum(axis=0))"
      ],
      "execution_count": null,
      "outputs": [
        {
          "output_type": "stream",
          "text": [
            "Size of train, validation, test: 5761 721 720\n",
            "real & fake news in train,valt,test:\n",
            "[2618. 3143.]\n",
            "[307. 414.]\n",
            "[313. 407.]\n"
          ],
          "name": "stdout"
        }
      ]
    },
    {
      "cell_type": "code",
      "metadata": {
        "id": "3OIocW-JbUYM"
      },
      "source": [
        "from keras.models import Sequential\n",
        "from keras.layers.convolutional import Conv3D\n",
        "from keras.layers.convolutional_recurrent import ConvLSTM2D\n",
        "from keras.layers.normalization import BatchNormalization\n",
        "import numpy as np\n",
        "from matplotlib import pyplot as plt\n",
        "from keras.layers import Dense, Embedding, LSTM, GRU\n",
        "\n",
        "%matplotlib inline"
      ],
      "execution_count": null,
      "outputs": []
    },
    {
      "cell_type": "code",
      "metadata": {
        "id": "UHvmgqprbXQ8",
        "colab": {
          "base_uri": "https://localhost:8080/"
        },
        "outputId": "5631ecf3-c07f-4ff3-aad2-1c98d071238f"
      },
      "source": [
        "GLOVE_DIR = \"data\" \n",
        "embeddings_index = {}\n",
        "f = open(os.path.join(GLOVE_DIR, '/content/drive/My Drive/dataset/glove.6B.100d.txt'), encoding=\"utf8\")\n",
        "for line in f:\n",
        "    values = line.split()\n",
        "    #print(values[1:])\n",
        "    word = values[0]\n",
        "    coefs = np.asarray(values[1:], dtype='float32')\n",
        "    embeddings_index[word] = coefs\n",
        "f.close()\n",
        "\n",
        "print('Total %s word vectors in Glove.' % len(embeddings_index))\n",
        "\n",
        "embedding_matrix = np.random.random((len(word_index) + 1, EMBEDDING_DIM))\n",
        "for word, i in word_index.items():\n",
        "    embedding_vector = embeddings_index.get(word)\n",
        "    if embedding_vector is not None:\n",
        "        # words not found in embedding index will be all-zeros.\n",
        "        embedding_matrix[i] = embedding_vector\n",
        "        \n",
        "embedding_layer = Embedding(len(word_index) + 1,\n",
        "                            EMBEDDING_DIM,\n",
        "                            weights=[embedding_matrix],\n",
        "                            input_length=MAX_SEQUENCE_LENGTH)"
      ],
      "execution_count": null,
      "outputs": [
        {
          "output_type": "stream",
          "text": [
            "Total 400000 word vectors in Glove.\n"
          ],
          "name": "stdout"
        }
      ]
    },
    {
      "cell_type": "code",
      "metadata": {
        "id": "s2DeSe-Qbael",
        "colab": {
          "base_uri": "https://localhost:8080/"
        },
        "outputId": "e357d17b-c708-4206-d3d0-20cb53c5ba78"
      },
      "source": [
        "embedding_vecor_length = 32\n",
        "modell = Sequential()\n",
        "modell.add(embedding_layer)\n",
        "modell.add(Dropout(0.2))\n",
        "modell.add(Conv1D(filters=32, kernel_size=5, padding='same', activation='relu'))\n",
        "modell.add(MaxPooling1D(pool_size=2))\n",
        "modell.add(Conv1D(filters=64, kernel_size=3, padding='same', activation='relu'))\n",
        "modell.add(MaxPooling1D(pool_size=2))\n",
        "modell.add(LSTM(100, dropout=0.2, recurrent_dropout=0.2))\n",
        "modell.add(BatchNormalization())\n",
        "modell.add(Dense(256, activation='relu'))\n",
        "modell.add(Dense(128, activation='relu'))\n",
        "modell.add(Dense(64, activation='relu'))\n",
        "modell.add(Dense(2, activation='softmax'))\n",
        "modell.compile(loss='binary_crossentropy', optimizer='adam', metrics=['accuracy'])\n",
        "print(modell.summary())\n",
        "modell.fit(x_train, y_train, epochs=10, batch_size=64)\n",
        "\n",
        "modell.save('lstm.h5')"
      ],
      "execution_count": null,
      "outputs": [
        {
          "output_type": "stream",
          "text": [
            "WARNING:tensorflow:Layer lstm will not use cuDNN kernel since it doesn't meet the cuDNN kernel criteria. It will use generic GPU kernel as fallback when running on GPU\n",
            "Model: \"sequential\"\n",
            "_________________________________________________________________\n",
            "Layer (type)                 Output Shape              Param #   \n",
            "=================================================================\n",
            "embedding (Embedding)        (None, 1000, 100)         10828300  \n",
            "_________________________________________________________________\n",
            "dropout (Dropout)            (None, 1000, 100)         0         \n",
            "_________________________________________________________________\n",
            "conv1d (Conv1D)              (None, 1000, 32)          16032     \n",
            "_________________________________________________________________\n",
            "max_pooling1d (MaxPooling1D) (None, 500, 32)           0         \n",
            "_________________________________________________________________\n",
            "conv1d_1 (Conv1D)            (None, 500, 64)           6208      \n",
            "_________________________________________________________________\n",
            "max_pooling1d_1 (MaxPooling1 (None, 250, 64)           0         \n",
            "_________________________________________________________________\n",
            "lstm (LSTM)                  (None, 100)               66000     \n",
            "_________________________________________________________________\n",
            "batch_normalization (BatchNo (None, 100)               400       \n",
            "_________________________________________________________________\n",
            "dense (Dense)                (None, 256)               25856     \n",
            "_________________________________________________________________\n",
            "dense_1 (Dense)              (None, 128)               32896     \n",
            "_________________________________________________________________\n",
            "dense_2 (Dense)              (None, 64)                8256      \n",
            "_________________________________________________________________\n",
            "dense_3 (Dense)              (None, 2)                 130       \n",
            "=================================================================\n",
            "Total params: 10,984,078\n",
            "Trainable params: 10,983,878\n",
            "Non-trainable params: 200\n",
            "_________________________________________________________________\n",
            "None\n",
            "Epoch 1/10\n",
            "91/91 [==============================] - 105s 1s/step - loss: 0.6980 - accuracy: 0.5288\n",
            "Epoch 2/10\n",
            "91/91 [==============================] - 95s 1s/step - loss: 0.6811 - accuracy: 0.5545\n",
            "Epoch 3/10\n",
            "91/91 [==============================] - 93s 1s/step - loss: 0.6286 - accuracy: 0.6275\n",
            "Epoch 4/10\n",
            "91/91 [==============================] - 96s 1s/step - loss: 0.5394 - accuracy: 0.7232\n",
            "Epoch 5/10\n",
            "91/91 [==============================] - 96s 1s/step - loss: 0.4334 - accuracy: 0.8036\n",
            "Epoch 6/10\n",
            "91/91 [==============================] - 95s 1s/step - loss: 0.3031 - accuracy: 0.8743\n",
            "Epoch 7/10\n",
            "91/91 [==============================] - 97s 1s/step - loss: 0.2399 - accuracy: 0.9045\n",
            "Epoch 8/10\n",
            "91/91 [==============================] - 96s 1s/step - loss: 0.1740 - accuracy: 0.9331\n",
            "Epoch 9/10\n",
            "91/91 [==============================] - 98s 1s/step - loss: 0.1490 - accuracy: 0.9444\n",
            "Epoch 10/10\n",
            "91/91 [==============================] - 96s 1s/step - loss: 0.1395 - accuracy: 0.9497\n"
          ],
          "name": "stdout"
        }
      ]
    },
    {
      "cell_type": "code",
      "metadata": {
        "id": "zBju_J0sblY9",
        "colab": {
          "base_uri": "https://localhost:8080/"
        },
        "outputId": "ae8d0e61-3f09-467f-b1a7-cc18458ad646"
      },
      "source": [
        "embedding_vecor_length = 32\n",
        "modelg = Sequential()\n",
        "modelg.add(embedding_layer)\n",
        "modelg.add(GRU(100, dropout=0.2, recurrent_dropout=0.2))\n",
        "###\n",
        "modelg.add(BatchNormalization())\n",
        "###\n",
        "modelg.add(Dense(2, activation='softmax'))\n",
        "modelg.compile(loss='binary_crossentropy', optimizer='adam', metrics=['accuracy'])\n",
        "print(modelg.summary())\n",
        "modelg.fit(x_train, y_train, epochs=2, batch_size=64)\n",
        "modelg.save('gru.h5')"
      ],
      "execution_count": null,
      "outputs": [
        {
          "output_type": "stream",
          "text": [
            "WARNING:tensorflow:Layer gru will not use cuDNN kernel since it doesn't meet the cuDNN kernel criteria. It will use generic GPU kernel as fallback when running on GPU\n",
            "Model: \"sequential_1\"\n",
            "_________________________________________________________________\n",
            "Layer (type)                 Output Shape              Param #   \n",
            "=================================================================\n",
            "embedding (Embedding)        (None, 1000, 100)         10828300  \n",
            "_________________________________________________________________\n",
            "gru (GRU)                    (None, 100)               60600     \n",
            "_________________________________________________________________\n",
            "batch_normalization_1 (Batch (None, 100)               400       \n",
            "_________________________________________________________________\n",
            "dense_4 (Dense)              (None, 2)                 202       \n",
            "=================================================================\n",
            "Total params: 10,889,502\n",
            "Trainable params: 10,889,302\n",
            "Non-trainable params: 200\n",
            "_________________________________________________________________\n",
            "None\n",
            "Epoch 1/2\n",
            "91/91 [==============================] - 336s 4s/step - loss: 0.6101 - accuracy: 0.6721\n",
            "Epoch 2/2\n",
            "91/91 [==============================] - 331s 4s/step - loss: 0.1831 - accuracy: 0.9304\n"
          ],
          "name": "stdout"
        }
      ]
    },
    {
      "cell_type": "code",
      "metadata": {
        "id": "P4CM0hN9b2Bj",
        "colab": {
          "base_uri": "https://localhost:8080/",
          "height": 341
        },
        "outputId": "9bf4edd2-5c63-4b54-ebb2-11cd606eb64e"
      },
      "source": [
        "import matplotlib.pyplot as plt\n",
        "import seaborn as sns\n",
        "test_preds = modell.predict(x_test)\n",
        "test_preds = np.round(test_preds)\n",
        "correct_predictions = float(sum(test_preds == y_test)[0])\n",
        "print(\"Correct predictions:\", correct_predictions)\n",
        "print(\"Total number of test examples:\", len(y_test))\n",
        "print(\"Accuracy of model1: \", correct_predictions/float(len(y_test)))\n",
        "\n",
        "# Creating the Confusion Matrix\n",
        "from sklearn.metrics import confusion_matrix\n",
        "x_pred = modell.predict(x_test)\n",
        "x_pred = np.round(x_pred)\n",
        "x_pred = x_pred.argmax(1)\n",
        "y_test_s = y_test.argmax(1)\n",
        "cm = confusion_matrix(y_test_s, x_pred)\n",
        "# plt.matshow(cm, cmap=plt.cm.binary, interpolation='nearest')\n",
        "# plt.title('Confusion matrix - model1')\n",
        "# plt.colorbar()\n",
        "# plt.ylabel('expected label')\n",
        "# plt.xlabel('predicted label')\n",
        "# plt.show()\n",
        "sns.set(font_scale=1.4)#for label size\n",
        "sns.heatmap(cm,annot=True,annot_kws={\"size\": 16},fmt='1f')# font size"
      ],
      "execution_count": null,
      "outputs": [
        {
          "output_type": "stream",
          "text": [
            "Correct predictions: 455.0\n",
            "Total number of test examples: 720\n",
            "Accuracy of model1:  0.6319444444444444\n"
          ],
          "name": "stdout"
        },
        {
          "output_type": "execute_result",
          "data": {
            "text/plain": [
              "<matplotlib.axes._subplots.AxesSubplot at 0x7fead4060c18>"
            ]
          },
          "metadata": {
            "tags": []
          },
          "execution_count": 12
        },
        {
          "output_type": "display_data",
          "data": {
            "image/png": "[encoded data removed]",
            "text/plain": [
              "<Figure size 432x288 with 2 Axes>"
            ]
          },
          "metadata": {
            "tags": []
          }
        }
      ]
    },
    {
      "cell_type": "code",
      "metadata": {
        "id": "P4jSjqIFhqv6"
      },
      "source": [
        ""
      ],
      "execution_count": null,
      "outputs": []
    }
  ]
}